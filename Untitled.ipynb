{
 "cells": [
  {
   "cell_type": "code",
   "execution_count": 1,
   "metadata": {
    "collapsed": true
   },
   "outputs": [],
   "source": [
    "import numpy as np"
   ]
  },
  {
   "cell_type": "code",
   "execution_count": 5,
   "metadata": {
    "collapsed": false
   },
   "outputs": [],
   "source": [
    "temp = np.random.rand(3,4,5)"
   ]
  },
  {
   "cell_type": "code",
   "execution_count": 6,
   "metadata": {
    "collapsed": false
   },
   "outputs": [
    {
     "data": {
      "text/plain": [
       "array([[[0.15199008, 0.3720974 , 0.8303465 , 0.60398615, 0.7918698 ],\n",
       "        [0.06593951, 0.64548404, 0.70579176, 0.63643045, 0.30214303],\n",
       "        [0.07312165, 0.3345099 , 0.95220104, 0.43484679, 0.21908528],\n",
       "        [0.78833285, 0.17913332, 0.27905231, 0.44067626, 0.93055134]],\n",
       "\n",
       "       [[0.15714977, 0.17538217, 0.99559605, 0.62748275, 0.22590187],\n",
       "        [0.85992249, 0.94985014, 0.75704868, 0.21635267, 0.09723128],\n",
       "        [0.85420724, 0.91749147, 0.81152931, 0.06969631, 0.29408695],\n",
       "        [0.82980549, 0.67718078, 0.27912564, 0.0649837 , 0.55754812]],\n",
       "\n",
       "       [[0.03824571, 0.14155031, 0.61976028, 0.36287329, 0.63300467],\n",
       "        [0.88429371, 0.74143432, 0.24671979, 0.25137056, 0.15640691],\n",
       "        [0.63417444, 0.64626201, 0.19217855, 0.98272899, 0.38897992],\n",
       "        [0.5477435 , 0.35942764, 0.71503929, 0.94073701, 0.93728758]]])"
      ]
     },
     "execution_count": 6,
     "metadata": {},
     "output_type": "execute_result"
    }
   ],
   "source": [
    "temp"
   ]
  },
  {
   "cell_type": "code",
   "execution_count": 11,
   "metadata": {
    "collapsed": false
   },
   "outputs": [
    {
     "data": {
      "text/plain": [
       "0.2791256422735101"
      ]
     },
     "execution_count": 11,
     "metadata": {},
     "output_type": "execute_result"
    }
   ],
   "source": [
    "temp[1,3,2]"
   ]
  },
  {
   "cell_type": "code",
   "execution_count": 12,
   "metadata": {
    "collapsed": true
   },
   "outputs": [],
   "source": [
    "temp1= temp.reshape([3*4*5,-1])"
   ]
  },
  {
   "cell_type": "code",
   "execution_count": 13,
   "metadata": {
    "collapsed": false
   },
   "outputs": [
    {
     "data": {
      "text/plain": [
       "array([0.27912564])"
      ]
     },
     "execution_count": 13,
     "metadata": {},
     "output_type": "execute_result"
    }
   ],
   "source": [
    "temp1[37]"
   ]
  },
  {
   "cell_type": "code",
   "execution_count": 18,
   "metadata": {
    "collapsed": false
   },
   "outputs": [
    {
     "data": {
      "text/plain": [
       "2"
      ]
     },
     "execution_count": 18,
     "metadata": {},
     "output_type": "execute_result"
    }
   ],
   "source": [
    "37%20%5"
   ]
  },
  {
   "cell_type": "code",
   "execution_count": null,
   "metadata": {
    "collapsed": true
   },
   "outputs": [],
   "source": []
  }
 ],
 "metadata": {
  "kernelspec": {
   "display_name": "Python 3",
   "language": "python",
   "name": "python3"
  },
  "language_info": {
   "codemirror_mode": {
    "name": "ipython",
    "version": 3
   },
   "file_extension": ".py",
   "mimetype": "text/x-python",
   "name": "python",
   "nbconvert_exporter": "python",
   "pygments_lexer": "ipython3",
   "version": "3.5.1"
  }
 },
 "nbformat": 4,
 "nbformat_minor": 0
}
